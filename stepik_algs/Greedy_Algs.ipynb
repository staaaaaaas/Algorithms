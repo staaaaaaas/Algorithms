{
 "cells": [
  {
   "cell_type": "markdown",
   "id": "a55df29d-2f7e-474d-be7d-1627ee4b39d7",
   "metadata": {},
   "source": [
    "# Жадные алгоритмы"
   ]
  },
  {
   "cell_type": "markdown",
   "id": "96bed051-dfe1-4de7-bb27-373d010ee21f",
   "metadata": {},
   "source": [
    "## Задача 1\n",
    "\n",
    "**Покрыть отрезки точками**\n",
    "\n",
    "По данным $n$ отрезкам необходимо найти множество точек минимального размера, для которого каждый из отрезков содержит хотя бы одну из точек.\n",
    "\n",
    "В первой строке дано число $1 \\le n \\le 100$ отрезков. Каждая из последующих $n$ строк содержит по два числа $0 \\le l \\le r \\le 10^9$, задающих начало и конец отрезка. Выведите оптимальное число $m$ точек и сами $m$ точек. Если таких множеств точек несколько, выведите любое из них.\n",
    " \n",
    "**input**: \n",
    "\n",
    " 4\n",
    " \n",
    " 4 7\n",
    " \n",
    " 1 3\n",
    " \n",
    " 2 5\n",
    " \n",
    " 5 6\n",
    " \n",
    "**output**:\n",
    " \n",
    " 2\n",
    " \n",
    " 3 6"
   ]
  },
  {
   "cell_type": "code",
   "execution_count": 2,
   "id": "13b13628-cdc5-4802-9918-bf17d57de0cf",
   "metadata": {},
   "outputs": [],
   "source": [
    "def cover_sections(sections):\n",
    "    # точки\n",
    "    points = []\n",
    "\n",
    "    # сортировка по правому концу отрезка\n",
    "    sections.sort(key=lambda x: x[-1])\n",
    "\n",
    "    # пока остались непокрытые отрезки\n",
    "    while sections:\n",
    "        # добавляем минимальную правую точку отсортированного списка отрезков  \n",
    "        points.append(sections[0][1])\n",
    "        # удаляем из копии списка все отрезки, содержащие точку\n",
    "        new_sections = sections.copy()\n",
    "        for elem in sections:\n",
    "            if points[-1] in range(elem[0], elem[1] + 1):\n",
    "                new_sections.remove(elem)\n",
    "        # заменяем список отрезков на новый\n",
    "        sections = new_sections\n",
    "        \n",
    "    return points"
   ]
  },
  {
   "cell_type": "code",
   "execution_count": 3,
   "id": "6be7d7d0-15c4-4612-adb1-d922714a1422",
   "metadata": {},
   "outputs": [
    {
     "name": "stdin",
     "output_type": "stream",
     "text": [
      " 4\n",
      " 4 7\n",
      " 1 3\n",
      " 2 5\n",
      " 5 6\n"
     ]
    },
    {
     "name": "stdout",
     "output_type": "stream",
     "text": [
      "2\n",
      "3 6\n"
     ]
    }
   ],
   "source": [
    "# ввод кол-ва отрезков \n",
    "n = int(input())\n",
    "\n",
    "sections = []\n",
    "# ввод отрезков\n",
    "for i in range (n):\n",
    "    sections.append(list(map(int, input().split())))\n",
    "    \n",
    "res = cover_sections(sections)\n",
    "\n",
    "# вывод результата             \n",
    "print(len(res))\n",
    "print(*res)\n"
   ]
  },
  {
   "cell_type": "markdown",
   "id": "493319bc-9daa-4b72-b1bc-900fa8ae76af",
   "metadata": {},
   "source": [
    "## Задача 2\n",
    "\n",
    "**Непрерывный рюкзак**\n",
    "\n",
    "Первая строка содержит количество предметов $1 \\le n \\le 10^3$ и вместимость рюкзака $0 \\le W \\le 2 \\cdot 10^6$. Каждая из следующих $n$ строк задаёт стоимость $0 \\le c_i \\le 2\\cdot 10^6$ и объём $0 \\lt w_i \\le 2\\cdot 10^6$ предмета ($n$, $W$, $c_i$, $w_i$ — целые числа). Выведите максимальную стоимость частей предметов (от каждого предмета можно отделить любую часть, стоимость и объём при этом пропорционально уменьшатся), помещающихся в данный рюкзак, с точностью не менее трёх знаков после запятой.\n",
    "\n",
    "**input**: \n",
    "\n",
    " 3 50\n",
    " \n",
    " 60 20\n",
    " \n",
    " 100 50\n",
    " \n",
    " 120 30\n",
    " \n",
    "**output**:\n",
    " \n",
    " 180.000"
   ]
  },
  {
   "cell_type": "code",
   "execution_count": 3,
   "id": "313a6749-06bd-4228-bce9-1648c5908dad",
   "metadata": {},
   "outputs": [],
   "source": [
    "def continuous_backpack(stash):\n",
    "    # сортировка по максимальной стоимости за единицу веса\n",
    "    stash.sort(key=lambda x: x[0] / x[1], reverse=True)\n",
    "    # текущий вес рюкзака \n",
    "    weight = 0\n",
    "    # текущая стоимость предметов в рюкзаке\n",
    "    cost = 0\n",
    "    # пока остались предметы в рюкзаке\n",
    "    while stash:\n",
    "        item = stash[0]\n",
    "        # обработка предметов с нулевой стоимостью или весом \n",
    "        if  item[0] == 0 or item[1] == 0:\n",
    "            stash.remove(item)\n",
    "            continue\n",
    "        # проверяем, можно ли взять весь самый дорогой предмет \n",
    "        if (item[1]) <= W - weight:\n",
    "            cost += item[0]\n",
    "            weight += item[1]\n",
    "            # удаляем самый дорогой предмет     \n",
    "            stash.remove(item)\n",
    "        # иначе пытаемся взять максимальную часть самого дорогого предмета \n",
    "        else:\n",
    "            cost += (W - weight) * (item[0] / item[1])\n",
    "            break\n",
    "    return cost"
   ]
  },
  {
   "cell_type": "code",
   "execution_count": 5,
   "id": "4f408e17-eda0-4802-9230-7913e3919413",
   "metadata": {},
   "outputs": [
    {
     "name": "stdin",
     "output_type": "stream",
     "text": [
      " 3 50\n",
      " 60 20\n",
      " 100 50\n",
      " 120 30\n"
     ]
    },
    {
     "name": "stdout",
     "output_type": "stream",
     "text": [
      "180.000\n"
     ]
    }
   ],
   "source": [
    "# ввод кол-ва предметов и вместимости рюкзака\n",
    "n , W = map(int, input().split())\n",
    "\n",
    "# хранилище предметов \n",
    "stash = []\n",
    "\n",
    "# ввод стоимости и объема предметов \n",
    "for i in range(n):\n",
    "    stash.append(list(map(int, input().split())))\n",
    "    \n",
    "cost = continuous_backpack(stash)\n",
    "\n",
    "# вывод результата \n",
    "print('%.3f' % cost)"
   ]
  },
  {
   "cell_type": "markdown",
   "id": "5bbc7178-b258-4846-8064-c1b9f10bc132",
   "metadata": {},
   "source": [
    "## Задача 3\n",
    "**Различные слагаемые**\n",
    "\n",
    "По данному числу $1 \\le n \\le 10^9$ найдите максимальное число $k$, для которого $n$ можно представить как сумму $k$ различных натуральных слагаемых. Выведите в первой строке число $k$, во второй — $k$ слагаемых.\n",
    "\n",
    "**input**: \n",
    "\n",
    " 6\n",
    " \n",
    "**output**:\n",
    " \n",
    "3\n",
    "\n",
    "1 2 3 "
   ]
  },
  {
   "cell_type": "code",
   "execution_count": 163,
   "id": "bb61cac9-6c11-4798-85fc-1fad461e886a",
   "metadata": {},
   "outputs": [],
   "source": [
    "def different_terms(n):\n",
    "    # список слагаемых\n",
    "    terms = []\n",
    "    # копия n, которую будем менять\n",
    "    n_new = n\n",
    "    # итератор с шагом 1\n",
    "    for t in range (1, n+1):\n",
    "        # если остаток больше либо равен следующему значению итератора\n",
    "        if n_new - t >= t + 1:\n",
    "            # добавляем слагаемое, считаем остаток n\n",
    "            terms.append(t)\n",
    "            n_new -= t\n",
    "        # иначе добавляем в слагаемые остаток от n\n",
    "        else:\n",
    "            terms.append(n_new)\n",
    "            break\n",
    "    return terms"
   ]
  },
  {
   "cell_type": "code",
   "execution_count": 165,
   "id": "dba675cf-f30e-4ab9-a4c4-10c44a35c1bc",
   "metadata": {},
   "outputs": [
    {
     "name": "stdin",
     "output_type": "stream",
     "text": [
      " 6\n"
     ]
    },
    {
     "name": "stdout",
     "output_type": "stream",
     "text": [
      "3\n",
      "1 2 3\n"
     ]
    }
   ],
   "source": [
    "# ввод числа \n",
    "n = int(input())\n",
    "\n",
    "res = different_terms(n)\n",
    "\n",
    "# вывод результатов        \n",
    "print(len(res))\n",
    "print(*res)"
   ]
  },
  {
   "cell_type": "markdown",
   "id": "8947b1a8-eed1-402e-a2f1-df1bc612c1e9",
   "metadata": {},
   "source": [
    "# Код Хаффмана"
   ]
  },
  {
   "cell_type": "markdown",
   "id": "9f252690-3928-471c-aa2b-48d0c6e1a060",
   "metadata": {},
   "source": [
    "## Задача 1\n",
    "\n",
    "**Кодирование Хаффмана**\n",
    "\n",
    "По данной непустой строке $s$ длины не более $10^4$, состоящей из строчных букв латинского алфавита, постройте оптимальный беспрефиксный код. В первой строке выведите количество различных букв $k$, встречающихся в строке, и размер получившейся закодированной строки. В следующих $k$ строках запишите коды букв в формате $\"letter: code\"$. В последней строке выведите закодированную строку.\n",
    "\n",
    "**input**: \n",
    "\n",
    "abacabad\n",
    " \n",
    "**output**:\n",
    " \n",
    "4 14\n",
    "\n",
    "a: 0\n",
    "\n",
    "b: 10\n",
    "\n",
    "c: 110\n",
    "\n",
    "d: 111\n",
    "\n",
    "01001100100111"
   ]
  },
  {
   "cell_type": "code",
   "execution_count": 166,
   "id": "1e5bd7b0-5569-415b-b9d5-96600bef0dd4",
   "metadata": {},
   "outputs": [],
   "source": [
    "def haffman_encoding(s):\n",
    "    # список уникальных символов \n",
    "    symbols_set = list((set(s)))\n",
    "    # список частот символов \n",
    "    freq = [s.count(symbol) for symbol in symbols_set]\n",
    "    # словарь частот\n",
    "    freq_dict = {sym : f for sym, f  in zip(symbols_set, freq)}\n",
    "    # создаём словарь для \"узлов дерева\"\n",
    "    code_dict = {}\n",
    "    \n",
    "    # если один символ - кодируем как ноль\n",
    "    if len(freq_dict) == 1:\n",
    "        code_dict[symbols_set[0]] = '0'\n",
    "        \n",
    "    # иначе запускаем цикл по слоаврю частот, пока в нем не останется одна частота \n",
    "    while len(freq_dict) > 1:\n",
    "        # ищем минимальный по частоте элемент\n",
    "        sym1 = min(freq_dict, key=freq_dict.get)\n",
    "        # сохраняем частоту\n",
    "        f1 = freq_dict[sym1] \n",
    "        # удаляем элемент из словаря\n",
    "        freq_dict.pop(sym1)\n",
    "        # присваиваем значение симвоолу в словаре \"узлов дерева\"\n",
    "        code_dict[sym1] = '0'\n",
    "        # повторяем действтия для следующего минимального символа\n",
    "        sym2 = min(freq_dict, key=freq_dict.get)\n",
    "        f2 = freq_dict[sym2]\n",
    "        freq_dict.pop(sym2)\n",
    "        code_dict[sym2] = '1'\n",
    "        # добавялем новый элемент в словарь частот\n",
    "        freq_dict[sym1+sym2] = f1 + f2\n",
    "        \n",
    "    # кодируем каждый символ с помощью импровизированного обхода по дереву    \n",
    "    res_code = {}\n",
    "    for sym in symbols_set:\n",
    "        for combo in reversed(list(code_dict.keys())):\n",
    "            if sym in combo:\n",
    "                res_code[sym] = res_code.get(sym, '') + code_dict[combo]\n",
    "                \n",
    "    # кодируем строку\n",
    "    code_str = ''\n",
    "    for sym in s:\n",
    "        code_str += res_code[sym]\n",
    "        \n",
    "    return symbols_set, code_str, res_code"
   ]
  },
  {
   "cell_type": "code",
   "execution_count": 167,
   "id": "9d859e1f-c99f-4fc9-acf8-4cc448866a8f",
   "metadata": {},
   "outputs": [
    {
     "name": "stdin",
     "output_type": "stream",
     "text": [
      " abacabad\n"
     ]
    },
    {
     "name": "stdout",
     "output_type": "stream",
     "text": [
      "4 14\n",
      "a: 0\n",
      "b: 10\n",
      "c: 110\n",
      "d: 111\n",
      "01001100100111\n"
     ]
    }
   ],
   "source": [
    "# ввод строки\n",
    "s = input()\n",
    "\n",
    "symbols_set, code_str, res_code = haffman_encoding(s)\n",
    "\n",
    "# выводим результат\n",
    "print(len(symbols_set), len(code_str))\n",
    "for k in sorted(res_code, key=res_code.get):\n",
    "    print(f'{k}: {res_code[k]}')\n",
    "print(code_str)"
   ]
  },
  {
   "cell_type": "markdown",
   "id": "14b36225-0ac0-4310-a83c-6020323f1658",
   "metadata": {},
   "source": [
    "## Задача 2\n",
    "**Декодирование Хаффмана**\n",
    "\n",
    "Восстановите строку по её коду и беспрефиксному коду символов. \n",
    "\n",
    "В первой строке входного файла заданы два целых числа $k$ и $l$ через пробел — количество различных букв, встречающихся в строке, и размер получившейся закодированной строки, соответственно. В следующих $k$ строках записаны коды букв в формате $letter: code$. Ни один код не является префиксом другого. Буквы могут быть перечислены в любом порядке. В качестве букв могут встречаться лишь строчные буквы латинского алфавита; каждая из этих букв встречается в строке хотя бы один раз. Наконец, в последней строке записана закодированная строка. Исходная строка и коды всех букв непусты. Заданный код таков, что закодированная строка имеет минимальный возможный размер.\n",
    "\n",
    "\n",
    "В первой строке выходного файла выведите строку $s$. Она должна состоять из строчных букв латинского алфавита. Гарантируется, что длина правильного ответа не превосходит $10^4$ символов.\n",
    "\n",
    "**input**:\n",
    "\n",
    "4 14\n",
    "\n",
    "a: 0\n",
    "\n",
    "b: 10\n",
    "\n",
    "c: 110\n",
    "\n",
    "d: 111\n",
    "\n",
    "01001100100111\n",
    "\n",
    "**output**:\n",
    "\n",
    "abacabad"
   ]
  },
  {
   "cell_type": "code",
   "execution_count": 170,
   "id": "0cb63d7c-540a-4ed9-9801-dd40e01f22b4",
   "metadata": {},
   "outputs": [],
   "source": [
    "def haffman_decoding(coded_str, res_code):\n",
    "    # итоговая строка\n",
    "    s = ''\n",
    "    # левая граница слайса\n",
    "    i = 0\n",
    "    # правая граница слайса\n",
    "    j = 1\n",
    "    while i < len(coded_str):\n",
    "        # проверяем наличие слайса в ключах словаря кодировки\n",
    "        # при успехе двигаем левую границу, добавляем символ в итоговую строку, устанавливаем правую границу по деофолту \n",
    "        if coded_str[i:i+j] in res_code.keys():\n",
    "            s += res_code[coded_str[i:i+j]]\n",
    "            i += j\n",
    "            j = 1\n",
    "        # иначе двигаеим правую границу слайса\n",
    "        else:\n",
    "            j += 1\n",
    "    return s"
   ]
  },
  {
   "cell_type": "code",
   "execution_count": 171,
   "id": "ecec168c-e479-4bae-9d97-bcaa4ab11bcd",
   "metadata": {},
   "outputs": [
    {
     "name": "stdin",
     "output_type": "stream",
     "text": [
      " 4 14\n",
      " a: 0\n",
      " b: 10\n",
      " c: 110\n",
      " d: 111\n",
      " 01001100100111\n"
     ]
    },
    {
     "name": "stdout",
     "output_type": "stream",
     "text": [
      "abacabad\n"
     ]
    }
   ],
   "source": [
    "symbols_set_len, coded_str_len = map(int, input().split())\n",
    "\n",
    "# ввод словаря кодировки вида код:символ\n",
    "res_code = {}\n",
    "for i in range(symbols_set_len):\n",
    "    sym, code = map(str, input().replace(':','').split())\n",
    "    res_code[code] = sym\n",
    "    \n",
    "# ввод закодированной строки\n",
    "coded_str = input()\n",
    "\n",
    "print(haffman_decoding(coded_str, res_code))"
   ]
  },
  {
   "cell_type": "markdown",
   "id": "26ea848e-617d-4684-8883-749ff313ffcb",
   "metadata": {},
   "source": [
    "# Очередь с приоритетами"
   ]
  },
  {
   "cell_type": "markdown",
   "id": "c45d1e54-9c5c-41c9-b9c3-9f2a9c4d20a5",
   "metadata": {},
   "source": [
    "## Задача 1\n",
    "\n",
    "**Очередь с приоритетами на основе двоичной max кучи**\n",
    "\n",
    "Первая строка входа содержит число операций $1 \\le n \\le 10^5$. Каждая из последующих $n$ строк задают операцию одного из следующих двух типов:\n",
    "\n",
    "* $Insert (x)$, где $0 \\le x \\le 10^9$ — целое число;\n",
    "* $ExtractMax$\n",
    "\n",
    "Первая операция добавляет число $x$ в очередь с приоритетами, вторая — извлекает максимальное число и выводит его.\n",
    "\n",
    "**input**: \n",
    "\n",
    "6\n",
    "\n",
    "Insert 200\n",
    "\n",
    "Insert 10\n",
    "\n",
    "ExtractMax\n",
    "\n",
    "Insert 5\n",
    "\n",
    "Insert 500\n",
    "\n",
    "ExtractMax\n",
    "\n",
    "**output**:\n",
    "\n",
    "200\n",
    "\n",
    "500"
   ]
  },
  {
   "cell_type": "markdown",
   "id": "0695a56f-9c8c-41ca-9a5e-9ad571faf65d",
   "metadata": {},
   "source": [
    "Решение неочень компактное, можно оформить лучше, просто были проблемы с timelimit\n",
    "\n",
    "Ещё лучше было использовать heapq, но тогда реализация осталась бы в коробке"
   ]
  },
  {
   "cell_type": "code",
   "execution_count": 139,
   "id": "ed40301f-e27f-4054-9735-ae838b861453",
   "metadata": {},
   "outputs": [],
   "source": [
    "class Prior_Queue():\n",
    "    def __init__(self):\n",
    "        self.heap = []\n",
    "        \n",
    "    # вставка элемента  \n",
    "    def insert(self, x):\n",
    "        # добавляем в лист последнего уровня \n",
    "        self.heap.append(x)\n",
    "        # исправляем кучу просеиванием вверх\n",
    "        x_ind = len(self.heap) - 1\n",
    "        parent_ind = int((x_ind - 1) / 2)\n",
    "        parent = self.heap[parent_ind]\n",
    "        while parent < x:\n",
    "            self.heap[x_ind] = parent\n",
    "            self.heap[parent_ind] = x\n",
    "            x_ind = parent_ind\n",
    "            parent_ind = int((x_ind - 1) / 2)\n",
    "            parent = self.heap[parent_ind]\n",
    "    \n",
    "\n",
    "    def extract_max(self):\n",
    "        if len(self.heap) == 0:\n",
    "            return None\n",
    "        # извлекаем минимум из корня \n",
    "        x_max = self.heap[0]\n",
    "        # заменяем корень на лист последнего уровня\n",
    "        self.heap[0] = self.heap[len(self.heap) - 1]\n",
    "        self.heap.pop()\n",
    "        if len(self.heap) == 0 or len(self.heap) == 1:\n",
    "            return x_max\n",
    "        # исправляем кучу просеиванием вниз\n",
    "        parent = self.heap[0]\n",
    "        parent_ind = 0\n",
    "        \n",
    "        if 2 * parent_ind + 2 <= len(self.heap) - 1:\n",
    "            if self.heap[2 * parent_ind + 1] >= self.heap[2 * parent_ind + 2]:\n",
    "                max_child = self.heap[2 * parent_ind + 1]\n",
    "                max_child_ind = 2 * parent_ind + 1\n",
    "            else:\n",
    "                max_child = self.heap[2 * parent_ind + 2]\n",
    "                max_child_ind = 2 * parent_ind + 2\n",
    "        else:\n",
    "            max_child = self.heap[2 * parent_ind + 1]\n",
    "            max_child_ind = 2 * parent_ind + 1\n",
    "            \n",
    "        while parent < max_child :\n",
    "            self.heap[max_child_ind] = parent\n",
    "            self.heap[parent_ind] = max_child\n",
    "            parent_ind = max_child_ind\n",
    "            if 2 * parent_ind + 2 <= len(self.heap) - 1:\n",
    "                if self.heap[2 * parent_ind + 1] >= self.heap[2 * parent_ind + 2]:\n",
    "                    max_child = self.heap[2 * parent_ind + 1]\n",
    "                    max_child_ind = 2 * parent_ind + 1\n",
    "                else:\n",
    "                    max_child = self.heap[2 * parent_ind + 2]\n",
    "                    max_child_ind = 2 * parent_ind + 2\n",
    "            elif 2 * parent_ind + 1 <= len(self.heap) - 1:\n",
    "                max_child = self.heap[2 * parent_ind + 1]\n",
    "                max_child_ind = 2 * parent_ind + 1\n",
    "            else:\n",
    "                break\n",
    "            \n",
    "        \n",
    "        return x_max"
   ]
  },
  {
   "cell_type": "code",
   "execution_count": 161,
   "id": "ba6a4024-735d-4fcd-96e2-6ca41f703f09",
   "metadata": {},
   "outputs": [
    {
     "name": "stdin",
     "output_type": "stream",
     "text": [
      " 6\n",
      " Insert 200\n",
      " Insert 10\n",
      " ExtractMax\n",
      " Insert 5\n",
      " Insert 500\n",
      " ExtractMax\n"
     ]
    },
    {
     "name": "stdout",
     "output_type": "stream",
     "text": [
      "200\n",
      "500\n"
     ]
    }
   ],
   "source": [
    "#ввод количества действий     \n",
    "n = int(input())\n",
    "\n",
    "# инициализация очереди \n",
    "queue = Prior_Queue()\n",
    "# результат\n",
    "res = []\n",
    "# выполнение действий \n",
    "for i in range (n):\n",
    "    move = str(input())\n",
    "    move = move.split()\n",
    "    if len(move) != 1:\n",
    "        queue.insert(int(move[-1]))\n",
    "    else:\n",
    "        res.append(queue.extract_max())\n",
    "        \n",
    "# вывод результатов\n",
    "for elem in res:\n",
    "    print(elem)"
   ]
  }
 ],
 "metadata": {
  "kernelspec": {
   "display_name": "Python 3 (ipykernel)",
   "language": "python",
   "name": "python3"
  },
  "language_info": {
   "codemirror_mode": {
    "name": "ipython",
    "version": 3
   },
   "file_extension": ".py",
   "mimetype": "text/x-python",
   "name": "python",
   "nbconvert_exporter": "python",
   "pygments_lexer": "ipython3",
   "version": "3.8.11"
  }
 },
 "nbformat": 4,
 "nbformat_minor": 5
}
